{
 "cells": [
  {
   "cell_type": "code",
   "execution_count": 1,
   "metadata": {},
   "outputs": [
    {
     "name": "stdout",
     "output_type": "stream",
     "text": [
      "     x    y\n",
      "0  160  126\n",
      "1  180  103\n",
      "2  200   82\n",
      "3  220   75\n",
      "4  240   82\n",
      "5  260   40\n",
      "6  280   20\n",
      "     x\n",
      "0  160\n",
      "1  180\n",
      "2  200\n",
      "3  220\n",
      "4  240\n",
      "5  260\n",
      "6  280\n"
     ]
    }
   ],
   "source": [
    "import pandas as pd\n",
    "\n",
    "price = [160,180,200,220,240,260,280]\n",
    "\n",
    "sale = [126,103,82,75,82,40,20]\n",
    "\n",
    "priceDF = pd.DataFrame(price, columns=list('x'))\n",
    "\n",
    "saleDF = pd.DataFrame(sale, columns=list('y'))\n",
    "\n",
    "houseDf = pd.concat((priceDF, saleDF),axis=1)\n",
    "\n",
    "print(houseDf)\n",
    "\n",
    "print(priceDF)"
   ]
  },
  {
   "cell_type": "code",
   "execution_count": 2,
   "metadata": {},
   "outputs": [
    {
     "name": "stdout",
     "output_type": "stream",
     "text": [
      "                            OLS Regression Results                            \n",
      "==============================================================================\n",
      "Dep. Variable:                      y   R-squared:                       0.911\n",
      "Model:                            OLS   Adj. R-squared:                  0.893\n",
      "Method:                 Least Squares   F-statistic:                     50.93\n",
      "Date:                Sun, 18 Oct 2020   Prob (F-statistic):           0.000838\n",
      "Time:                        22:16:00   Log-Likelihood:                -26.006\n",
      "No. Observations:                   7   AIC:                             56.01\n",
      "Df Residuals:                       5   BIC:                             55.90\n",
      "Df Model:                           1                                         \n",
      "Covariance Type:            nonrobust                                         \n",
      "==============================================================================\n",
      "                 coef    std err          t      P>|t|      [0.025      0.975]\n",
      "------------------------------------------------------------------------------\n",
      "Intercept    249.8571     24.841     10.058      0.000     186.000     313.714\n",
      "x             -0.7929      0.111     -7.137      0.001      -1.078      -0.507\n",
      "==============================================================================\n",
      "Omnibus:                          nan   Durbin-Watson:                   1.995\n",
      "Prob(Omnibus):                    nan   Jarque-Bera (JB):                2.652\n",
      "Skew:                           1.442   Prob(JB):                        0.266\n",
      "Kurtosis:                       3.881   Cond. No.                     1.25e+03\n",
      "==============================================================================\n",
      "\n",
      "Notes:\n",
      "[1] Standard Errors assume that the covariance matrix of the errors is correctly specified.\n",
      "[2] The condition number is large, 1.25e+03. This might indicate that there are\n",
      "strong multicollinearity or other numerical problems.\n"
     ]
    },
    {
     "name": "stderr",
     "output_type": "stream",
     "text": [
      "C:\\Users\\Sai Harshith\\AppData\\Roaming\\Python\\Python37\\site-packages\\statsmodels\\stats\\stattools.py:75: ValueWarning: omni_normtest is not valid with less than 8 observations; 7 samples were given.\n",
      "  \"samples were given.\" % int(n), ValueWarning)\n"
     ]
    }
   ],
   "source": [
    "\n",
    "import statsmodels.api as sm\n",
    "\n",
    "import statsmodels.formula.api as smf\n",
    "\n",
    "\n",
    "smfModel = smf.ols('y~x',data=houseDf).fit()\n",
    "\n",
    "print(smfModel.summary())\n"
   ]
  },
  {
   "cell_type": "code",
   "execution_count": 3,
   "metadata": {},
   "outputs": [
    {
     "name": "stdout",
     "output_type": "stream",
     "text": [
      "      CRIM    ZN  INDUS  CHAS    NOX     RM   AGE     DIS  RAD    TAX  \\\n",
      "0  0.00632  18.0   2.31   0.0  0.538  6.575  65.2  4.0900  1.0  296.0   \n",
      "1  0.02731   0.0   7.07   0.0  0.469  6.421  78.9  4.9671  2.0  242.0   \n",
      "2  0.02729   0.0   7.07   0.0  0.469  7.185  61.1  4.9671  2.0  242.0   \n",
      "3  0.03237   0.0   2.18   0.0  0.458  6.998  45.8  6.0622  3.0  222.0   \n",
      "4  0.06905   0.0   2.18   0.0  0.458  7.147  54.2  6.0622  3.0  222.0   \n",
      "\n",
      "   PTRATIO       B  LSTAT  target  \n",
      "0     15.3  396.90   4.98    24.0  \n",
      "1     17.8  396.90   9.14    21.6  \n",
      "2     17.8  392.83   4.03    34.7  \n",
      "3     18.7  394.63   2.94    33.4  \n",
      "4     18.7  396.90   5.33    36.2  \n"
     ]
    }
   ],
   "source": [
    "from sklearn.datasets import fetch_california_housing\n",
    "from sklearn.datasets import load_boston\n",
    "import pandas as pd \n",
    "boston = load_boston()\n",
    "california = fetch_california_housing()\n",
    "dataset = pd.DataFrame(boston.data, columns=boston.feature_names)\n",
    "dataset['target'] = boston.target\n",
    "print(dataset.head()) "
   ]
  }
 ],
 "metadata": {
  "kernelspec": {
   "display_name": "Python 3",
   "language": "python",
   "name": "python3"
  },
  "language_info": {
   "codemirror_mode": {
    "name": "ipython",
    "version": 3
   },
   "file_extension": ".py",
   "mimetype": "text/x-python",
   "name": "python",
   "nbconvert_exporter": "python",
   "pygments_lexer": "ipython3",
   "version": "3.7.4"
  }
 },
 "nbformat": 4,
 "nbformat_minor": 4
}
